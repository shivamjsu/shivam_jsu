{
 "cells": [
  {
   "cell_type": "code",
   "execution_count": 9,
   "id": "f0c1aa14",
   "metadata": {},
   "outputs": [
    {
     "name": "stderr",
     "output_type": "stream",
     "text": [
      "'pip' is not recognized as an internal or external command,\n",
      "operable program or batch file.\n"
     ]
    }
   ],
   "source": [
    "!pip install qrcode #install pip qrcode as inbuilt liberary functions "
   ]
  },
  {
   "cell_type": "code",
   "execution_count": 10,
   "id": "f3df38ff",
   "metadata": {},
   "outputs": [],
   "source": [
    "import qrcode  #import liberary\n",
    "img = qrcode.make('Happy Birthday to you Lakshay Stay Blessed') #labelled your URL as per your requirements or copy path of your sites.\n",
    "img.save('wish.jpeg') #save your qr code as a file name then save your file & reopen this file in jupyter lab you will get a qr code & scan it , you will get your desired sites just one scan."
   ]
  }
 ],
 "metadata": {
  "kernelspec": {
   "display_name": "Python 3",
   "language": "python",
   "name": "python3"
  },
  "language_info": {
   "codemirror_mode": {
    "name": "ipython",
    "version": 3
   },
   "file_extension": ".py",
   "mimetype": "text/x-python",
   "name": "python",
   "nbconvert_exporter": "python",
   "pygments_lexer": "ipython3",
   "version": "3.8.8"
  }
 },
 "nbformat": 4,
 "nbformat_minor": 5
}
